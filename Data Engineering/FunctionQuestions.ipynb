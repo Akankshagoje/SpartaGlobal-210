{
 "cells": [
  {
   "cell_type": "code",
   "execution_count": 1,
   "id": "9cd5c956",
   "metadata": {},
   "outputs": [
    {
     "name": "stdout",
     "output_type": "stream",
     "text": [
      "Enter a number: 20\n",
      "[1, 2, 4, 5, 10, 20]\n"
     ]
    }
   ],
   "source": [
    "# Q1a: Write a function which takes in an integer as an argument and returns the divisors of that number as a list\n",
    "# e.g. f(12) = [1, 2, 3, 4, 6, 12]\n",
    "# hint: range(1, n) returns a collection of the numbers from 1 to n-1\n",
    "\n",
    "l = []\n",
    "def divisors(i):\n",
    "    for n in range(1,i+1):\n",
    "        if i%n == 0:\n",
    "            l.append(n)\n",
    "    return l\n",
    "    \n",
    "i = input('Enter a number: ')\n",
    "try:\n",
    "    i = int(i)\n",
    "    print(divisors(i))\n",
    "except:\n",
    "    print('Please enter a numeric value')    \n",
    "    "
   ]
  },
  {
   "cell_type": "code",
   "execution_count": 2,
   "id": "8f92b31b",
   "metadata": {},
   "outputs": [
    {
     "name": "stdout",
     "output_type": "stream",
     "text": [
      "Enter 1st number: 3\n",
      "Enter 2st number: 15\n",
      "True\n"
     ]
    }
   ],
   "source": [
    "# Q1b: Write a function which takes in two integers as arguments and returns true if one of the numbers\n",
    "# is a factor of the other, false otherwise\n",
    "# (bonus points if you call your previous function within this function\n",
    "\n",
    "# def factors(num1,num2):\n",
    "#     if (num1%num2) == 0 or (num2%num1 == 0):\n",
    "#         return('True')\n",
    "#     return('False')\n",
    "\n",
    "def factors(num1,num2):\n",
    "    if min(num1,num2) in divisors(max(num1,num2)):\n",
    "        return 'True'\n",
    "    return 'False'\n",
    "\n",
    "num1 = input('Enter 1st number: ')\n",
    "num2 = input('Enter 2st number: ')\n",
    "try:\n",
    "    num1 = int(num1)\n",
    "    num2 = int(num2)\n",
    "    print(factors(num1,num2))\n",
    "except:\n",
    "    print('Please enter the number')  \n"
   ]
  },
  {
   "cell_type": "code",
   "execution_count": 6,
   "id": "b0a85ec8",
   "metadata": {},
   "outputs": [
    {
     "name": "stdout",
     "output_type": "stream",
     "text": [
      "Enter a letter: a\n",
      "0\n"
     ]
    }
   ],
   "source": [
    "# Q2a: write a function which takes a letter (as a string) as an input and outputs it's position in the alphabet\n",
    "alphabet = [\"a\", \"b\", \"c\", \"d\", \"e\", \"f\", \"g\", \"h\", \"i\", \"j\", \"k\", \"l\", \"m\",\n",
    "            \"n\", \"o\", \"p\", \"q\", \"r\", \"s\", \"t\", \"u\", \"v\", \"w\", \"x\", \"y\", \"z\", \" \"]\n",
    "\n",
    "letter = input('Enter a letter: ')\n",
    "def position(letter):\n",
    "    return alphabet.index(letter)\n",
    "\n",
    "print(position(letter))\n"
   ]
  },
  {
   "cell_type": "code",
   "execution_count": 14,
   "id": "9efa3aff",
   "metadata": {},
   "outputs": [
    {
     "name": "stdout",
     "output_type": "stream",
     "text": [
      "Enter a string: bob\n",
      "1141\n"
     ]
    }
   ],
   "source": [
    "# Q2b: create a function which takes a persons name as an input string and returns an\n",
    "# ID number consisting of the positions of each letter in the name\n",
    "# e.g. f(\"bob\") = \"1141\" as \"b\" is in position 1 and \"o\" is in position 14\n",
    "\n",
    "\n",
    "def id_generator(name):\n",
    "    id_num = ''\n",
    "    for e in name:\n",
    "        id_num += str(position(e))\n",
    "    return id_num\n",
    "\n",
    "name = input('Enter a string: ')\n",
    "print(id_generator(name))"
   ]
  },
  {
   "cell_type": "code",
   "execution_count": 20,
   "id": "52873e89",
   "metadata": {},
   "outputs": [
    {
     "name": "stdout",
     "output_type": "stream",
     "text": [
      "Enter a name: bob\n",
      "Password for bob is: 1134\n"
     ]
    }
   ],
   "source": [
    "# Q2c: Create a function which turns this ID into a password. The function should subtract\n",
    "# the sum of the numbers in the id that was generated from the whole number of the id.\n",
    "# e.g. f(\"bob\") -> 1134 (because bob's id was 1141 and 1+1+4+1 = 7 so 1141 - 7 = 1134)\n",
    "\n",
    "def password_gen(name):\n",
    "    sum_id = 0\n",
    "    id = id_generator(name)\n",
    "    for e in id:\n",
    "        sum_id += int(e)\n",
    "    return int(id)-sum_id\n",
    "\n",
    "name = input('Enter a name: ')\n",
    "print('Password for '+name+' is:',password_gen(id))"
   ]
  },
  {
   "cell_type": "code",
   "execution_count": 37,
   "id": "ffe09f48",
   "metadata": {},
   "outputs": [
    {
     "name": "stdout",
     "output_type": "stream",
     "text": [
      "Enter a Number: 11\n",
      "Prime\n"
     ]
    }
   ],
   "source": [
    "# Q3a: Write a function which takes an integer as an input, and returns true if the number is prime, false otherwise.\n",
    "\n",
    "def prime_check(num):\n",
    "    is_prime = 0\n",
    "    for n in range(2,num):\n",
    "        if num%n == 0:\n",
    "            return 'Not Prime'\n",
    "        else:\n",
    "            return 'Prime'\n",
    "\n",
    "num = input('Enter a Number: ')\n",
    "print(prime_check(int(num)))\n"
   ]
  },
  {
   "cell_type": "code",
   "execution_count": 38,
   "id": "fe739747",
   "metadata": {},
   "outputs": [
    {
     "name": "stdout",
     "output_type": "stream",
     "text": [
      "Enter a Number: 12\n",
      "This is Not Prime\n"
     ]
    }
   ],
   "source": [
    "# Q3b: Now add some functionality to the function which does not error if the user inputs something other than a digit\n",
    "\n",
    "def digit_check(digit):\n",
    "    try:\n",
    "        digit = int(digit)\n",
    "    except:\n",
    "        print('Please enter the numerical value')\n",
    "    else:\n",
    "        print('This is',prime_check(digit))\n",
    "\n",
    "digit = input('Enter a Number: ')\n",
    "digit_check(digit)\n"
   ]
  },
  {
   "cell_type": "code",
   "execution_count": null,
   "id": "01f0fd80",
   "metadata": {},
   "outputs": [],
   "source": []
  }
 ],
 "metadata": {
  "kernelspec": {
   "display_name": "Python 3 (ipykernel)",
   "language": "python",
   "name": "python3"
  },
  "language_info": {
   "codemirror_mode": {
    "name": "ipython",
    "version": 3
   },
   "file_extension": ".py",
   "mimetype": "text/x-python",
   "name": "python",
   "nbconvert_exporter": "python",
   "pygments_lexer": "ipython3",
   "version": "3.10.9"
  }
 },
 "nbformat": 4,
 "nbformat_minor": 5
}
