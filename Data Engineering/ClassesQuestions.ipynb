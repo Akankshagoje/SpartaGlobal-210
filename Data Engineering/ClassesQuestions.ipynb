{
 "cells": [
  {
   "cell_type": "code",
   "execution_count": 16,
   "id": "14773562",
   "metadata": {},
   "outputs": [
    {
     "name": "stdout",
     "output_type": "stream",
     "text": [
      "\n",
      "Q1a\n",
      "\n"
     ]
    }
   ],
   "source": [
    "print(\"\\nQ1a\\n\")\n",
    "# Q1a: Create a class which of a country (include continent, climate, language etc in the inputs)\n",
    "\n",
    "# A1a:\n",
    "\n",
    "class Country():\n",
    "    def __init__(this,continent,climate,language):\n",
    "        this.con = continent\n",
    "        this.cli = climate\n",
    "        this.lan = language\n",
    "        print(this.con,this.cli,this.lan)"
   ]
  },
  {
   "cell_type": "code",
   "execution_count": 17,
   "id": "42009211",
   "metadata": {},
   "outputs": [],
   "source": [
    "class City(Country):\n",
    "    pass"
   ]
  },
  {
   "cell_type": "code",
   "execution_count": 19,
   "id": "d1e1312e",
   "metadata": {},
   "outputs": [
    {
     "name": "stdout",
     "output_type": "stream",
     "text": [
      "Asia Hot English\n"
     ]
    }
   ],
   "source": [
    "my_city = City('Asia','Hot','English')"
   ]
  },
  {
   "cell_type": "code",
   "execution_count": 25,
   "id": "d1ddaf9a",
   "metadata": {},
   "outputs": [
    {
     "name": "stdout",
     "output_type": "stream",
     "text": [
      "\n",
      "Q2a\n",
      "\n",
      "[53, 3, 17, 19, 223]\n"
     ]
    }
   ],
   "source": [
    "print(\"\\nQ2a\\n\")\n",
    "# Q2a: Using the predefined class and is_prime method below, loop through list_of_numbers and create\n",
    "# a list of primes from that list\n",
    "list_of_numbers = [1, 12, 44, 53, 6, 3, 6545, 76, 32, 345, 22, 17, 19, 223, 156]\n",
    "\n",
    "\n",
    "class Number:\n",
    "    def __init__(self, integer):\n",
    "        self.integer = integer\n",
    "\n",
    "    def is_prime(self):\n",
    "        if self.integer >= 2:\n",
    "            for x in range(2, self.integer):\n",
    "                if self.integer % x == 0:\n",
    "                    return False\n",
    "            return True\n",
    "        else:\n",
    "            return False\n",
    "\n",
    "    def divisible_by_n(self, n):\n",
    "        if self.integer % n == 0:\n",
    "            return True\n",
    "        else:\n",
    "            return False\n",
    "\n",
    "# A2a:\n",
    "list_of_primes = []\n",
    "for i in list_of_numbers:\n",
    "    prime_check = Number(i)\n",
    "    if prime_check.is_prime() == True:\n",
    "        list_of_primes.append(i)\n",
    "print(list_of_primes)\n",
    "\n"
   ]
  },
  {
   "cell_type": "code",
   "execution_count": 26,
   "id": "51ae9691",
   "metadata": {},
   "outputs": [
    {
     "name": "stdout",
     "output_type": "stream",
     "text": [
      "\n",
      "Q2b\n",
      "\n",
      "[12, 156]\n"
     ]
    }
   ],
   "source": [
    "print(\"\\nQ2b\\n\")\n",
    "# Q2b: Now create a list of numbers from list_of_numbers that are divisible\n",
    "# by both 3 and 4 using the divisible_by_n method above\n",
    "\n",
    "# A2b:\n",
    "list_of_divisibles = []\n",
    "for i in list_of_numbers:\n",
    "    divisible_check = Number(i)\n",
    "    if divisible_check.divisible_by_n(3) == True and divisible_check.divisible_by_n(4) == True:\n",
    "        list_of_divisibles.append(i)\n",
    "print(list_of_divisibles)\n",
    "\n",
    "\n"
   ]
  },
  {
   "cell_type": "code",
   "execution_count": 44,
   "id": "471714eb",
   "metadata": {},
   "outputs": [
    {
     "name": "stdout",
     "output_type": "stream",
     "text": [
      "\n",
      "Q3a\n",
      "\n",
      "The team cheers for John, starts shouting awesome slogans then gets back to work.\n"
     ]
    }
   ],
   "source": [
    "print(\"\\nQ3a\\n\")\n",
    "# Q3a: Fix the following class and subclass (uncomment by selecting all rows and pressing CTRL + /)\n",
    "\n",
    "\n",
    "# class Boss(object):\n",
    "#     def __init__(self, name, attitude, behaviour, face):\n",
    "#         name = name\n",
    "#         attitude = attitude\n",
    "#         behaviour = behaviour\n",
    "#         face = face\n",
    "#\n",
    "#     def get_attitude(self):\n",
    "#         return attitude\n",
    "#\n",
    "#     def get_behaviour(self):\n",
    "#         return behaviour\n",
    "#\n",
    "#     def get_face(self):\n",
    "#         return face\n",
    "#\n",
    "#\n",
    "# class GoodBoss(Boss):\n",
    "#     def __init__(self, name, attitude, behaviour, face):\n",
    "#         super()\n",
    "#\n",
    "#    def encourage(self):\n",
    "#        print(f\"The team cheers for {self.name}, starts shouting awesome slogans then gets back to work.\")\n",
    "\n",
    "\n",
    "# A3a:\n",
    "\n",
    "class Boss(object):\n",
    "    def __init__(self, name, attitude, behaviour, face):\n",
    "        self.name = name\n",
    "        self.attitude = attitude\n",
    "        self.behaviour = behaviour\n",
    "        self.face = face\n",
    "\n",
    "    def get_attitude(self):\n",
    "        return self.attitude\n",
    "\n",
    "    def get_behaviour(self):\n",
    "        return self.behaviour\n",
    "\n",
    "    def get_face(self):\n",
    "        return self.face\n",
    "\n",
    "\n",
    "class GoodBoss(Boss):\n",
    "    def __init__(self, name, attitude, behaviour, face):\n",
    "        super().__init__(name, attitude, behaviour, face)\n",
    "    def encourage(self):\n",
    "        print(\"The team cheers for \"+self.name+\", starts shouting awesome slogans then gets back to work.\")\n",
    "\n",
    "new_obj = GoodBoss('John','Soft','Helpful','Round');\n",
    "new_obj.encourage()"
   ]
  },
  {
   "cell_type": "code",
   "execution_count": null,
   "id": "24086e17",
   "metadata": {},
   "outputs": [],
   "source": []
  },
  {
   "cell_type": "code",
   "execution_count": null,
   "id": "5c866d93",
   "metadata": {},
   "outputs": [],
   "source": []
  }
 ],
 "metadata": {
  "kernelspec": {
   "display_name": "Python 3 (ipykernel)",
   "language": "python",
   "name": "python3"
  },
  "language_info": {
   "codemirror_mode": {
    "name": "ipython",
    "version": 3
   },
   "file_extension": ".py",
   "mimetype": "text/x-python",
   "name": "python",
   "nbconvert_exporter": "python",
   "pygments_lexer": "ipython3",
   "version": "3.10.9"
  }
 },
 "nbformat": 4,
 "nbformat_minor": 5
}
