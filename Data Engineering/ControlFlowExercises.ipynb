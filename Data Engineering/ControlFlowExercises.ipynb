{
 "cells": [
  {
   "cell_type": "code",
   "execution_count": 3,
   "id": "04de9b71",
   "metadata": {},
   "outputs": [
    {
     "name": "stdout",
     "output_type": "stream",
     "text": [
      "[2, 5, 4, 87, 34]\n"
     ]
    }
   ],
   "source": [
    "# Q1a: Print only the first 5 numbers in this list\n",
    "x = [2, 5, 4, 87, 34, 2, 1, 31, 103, 99]\n",
    "\n",
    "print(x[:5])"
   ]
  },
  {
   "cell_type": "code",
   "execution_count": 12,
   "id": "f10bf83f",
   "metadata": {},
   "outputs": [
    {
     "name": "stdout",
     "output_type": "stream",
     "text": [
      "2\n",
      "4\n",
      "34\n",
      "2\n"
     ]
    }
   ],
   "source": [
    "# Q1b: Now print only the even numbers in this list (the elements that are themselves even)\n",
    "x = [2, 5, 4, 87, 34, 2, 1, 31, 103, 99]\n",
    "\n",
    "for i in x:\n",
    "    if(i%2 == 0):\n",
    "        print(i)\n",
    "        "
   ]
  },
  {
   "cell_type": "code",
   "execution_count": 14,
   "id": "c9e469d0",
   "metadata": {},
   "outputs": [
    {
     "name": "stdout",
     "output_type": "stream",
     "text": [
      "2\n",
      "4\n",
      "34\n"
     ]
    }
   ],
   "source": [
    "# Q1c: Now only print the even numbers up to the fifth element in the list (e.g. 2, 4, 34)\n",
    "x = [2, 5, 4, 87, 34, 2, 1, 31, 103, 99]\n",
    "\n",
    "for i in range(5):\n",
    "    if(x[i]%2 == 0):\n",
    "        print(x[i])\n"
   ]
  },
  {
   "cell_type": "code",
   "execution_count": 15,
   "id": "0b6bbe18",
   "metadata": {},
   "outputs": [
    {
     "name": "stdout",
     "output_type": "stream",
     "text": [
      "['A', 'L', 'K', 'A', 'T']\n"
     ]
    }
   ],
   "source": [
    "# Q2a: from the list of names, create another list that consists of only the first letters of each first name\n",
    "# e.g. [\"Alan Turing\", \"Leonardo Fibonacci\"] -> [\"A\", \"L\"]\n",
    "names = [\"Alan Turing\", \"Leonardo Fibonacci\", \"Katherine Johnson\", \"Annie Easley\", \"Terence Tao\"]\n",
    "\n",
    "l = []\n",
    "for name in names:\n",
    "    l.append(name[0])\n",
    "print(l)"
   ]
  },
  {
   "cell_type": "code",
   "execution_count": 1,
   "id": "51e1d9b5",
   "metadata": {},
   "outputs": [
    {
     "name": "stdout",
     "output_type": "stream",
     "text": [
      "[4, 8, 9, 5, 7]\n"
     ]
    }
   ],
   "source": [
    "# Q2b: from the list of names, create another list that consists of only the index of the space in the string\n",
    "# HINT: use your_string.index(\"substring\")\n",
    "names = [\"Alan Turing\", \"Leonardo Fibonacci\", \"Katherine Johnson\", \"Annie Easley\", \"Terence Tao\"]\n",
    "\n",
    "l=[]\n",
    "for name in names:\n",
    "    l.append(name.index(' '))\n",
    "print(l)"
   ]
  },
  {
   "cell_type": "code",
   "execution_count": 2,
   "id": "703747a5",
   "metadata": {},
   "outputs": [
    {
     "name": "stdout",
     "output_type": "stream",
     "text": [
      "['A T', 'L F', 'K J', 'A E', 'T T']\n"
     ]
    }
   ],
   "source": [
    "# Q2c: from the list of names, create another list that consists of the first and last initial of each individual\n",
    "names = [\"Alan Turing\", \"Leonardo Fibonacci\", \"Katherine Johnson\", \"Annie Easley\", \"Terence Tao\"]\n",
    "\n",
    "initial = []\n",
    "for name in names:\n",
    "    initial.append(name[0:1]+' '+name[name.index(' ')+1:name.index(' ')+2])\n",
    "print(initial)"
   ]
  },
  {
   "cell_type": "code",
   "execution_count": 3,
   "id": "50204a5c",
   "metadata": {},
   "outputs": [
    {
     "name": "stdout",
     "output_type": "stream",
     "text": [
      "['A', 'B', 'C']\n",
      "['one', 'Two', 'Three', 'Four']\n"
     ]
    }
   ],
   "source": [
    "# Q3a: Here is a list of lists, print only the lists which have no duplicates\n",
    "# Hint: This can be easily done by using sets as a set does not contain duplicates\n",
    "list_of_lists = [[1,5,7,3,44,4,1],\n",
    "                 [\"A\", \"B\", \"C\"],\n",
    "                 [\"Hi\", \"Hello\", \"Ciao\", \"By\", \"Goodbye\", \"Ciao\"],\n",
    "                 [\"one\", \"Two\", \"Three\", \"Four\"]]\n",
    "\n",
    "for li in list_of_lists:\n",
    "    if len(set(li)) == len(li):\n",
    "        print(li)"
   ]
  },
  {
   "cell_type": "code",
   "execution_count": 4,
   "id": "2f2c87d6",
   "metadata": {},
   "outputs": [
    {
     "name": "stdout",
     "output_type": "stream",
     "text": [
      "Enter a number greater than 100: 101\n",
      "101\n"
     ]
    }
   ],
   "source": [
    "# Q4a: Using a while loop, ask the user to input a number greater than 100, if they enter anything else,\n",
    "# get them to enter again (and repeat until the conditions are satisfied). Finally print the number that\n",
    "# they entered\n",
    "\n",
    "i = input('Enter a number greater than 100: ')\n",
    "while True: \n",
    "    try:\n",
    "        i = int(i)\n",
    "    except:\n",
    "        print('Please enter the numerical value')\n",
    "    else: \n",
    "        if i > 100:\n",
    "            print(i)\n",
    "            break\n"
   ]
  },
  {
   "cell_type": "code",
   "execution_count": 5,
   "id": "7060ee31",
   "metadata": {},
   "outputs": [
    {
     "name": "stdout",
     "output_type": "stream",
     "text": [
      "Enter a number greater than 100: 101\n",
      "Prime\n"
     ]
    }
   ],
   "source": [
    "# Q4b: Continue this code and print \"prime\" if the number is a prime number and \"not prime\" otherwise\n",
    "\n",
    "i = input('Enter a number greater than 100: ')\n",
    "is_prime = 0\n",
    "while True: \n",
    "    try:\n",
    "        i = int(i)\n",
    "    except:\n",
    "        print('Please enter the numerical value')\n",
    "    else: \n",
    "        if i > 100:\n",
    "            for n in range(2,i):\n",
    "                if i%n == 0:\n",
    "                    is_prime = 1\n",
    "                    break\n",
    "        print('Not Prime' if is_prime == 1 else 'Prime')\n",
    "        break\n",
    "\n",
    "    "
   ]
  },
  {
   "cell_type": "code",
   "execution_count": null,
   "id": "abb63a0d",
   "metadata": {},
   "outputs": [],
   "source": []
  },
  {
   "cell_type": "code",
   "execution_count": null,
   "id": "e1baa5ff",
   "metadata": {},
   "outputs": [],
   "source": []
  },
  {
   "cell_type": "code",
   "execution_count": null,
   "id": "466401b1",
   "metadata": {},
   "outputs": [],
   "source": []
  },
  {
   "cell_type": "code",
   "execution_count": null,
   "id": "94d0c3e7",
   "metadata": {},
   "outputs": [],
   "source": []
  }
 ],
 "metadata": {
  "kernelspec": {
   "display_name": "Python 3 (ipykernel)",
   "language": "python",
   "name": "python3"
  },
  "language_info": {
   "codemirror_mode": {
    "name": "ipython",
    "version": 3
   },
   "file_extension": ".py",
   "mimetype": "text/x-python",
   "name": "python",
   "nbconvert_exporter": "python",
   "pygments_lexer": "ipython3",
   "version": "3.10.9"
  }
 },
 "nbformat": 4,
 "nbformat_minor": 5
}
