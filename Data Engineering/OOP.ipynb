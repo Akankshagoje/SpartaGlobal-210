{
 "cells": [
  {
   "cell_type": "code",
   "execution_count": 1,
   "id": "5d4b923d",
   "metadata": {},
   "outputs": [],
   "source": [
    "class Car():\n",
    "    pass"
   ]
  },
  {
   "cell_type": "code",
   "execution_count": 2,
   "id": "ec6a6067",
   "metadata": {},
   "outputs": [
    {
     "data": {
      "text/plain": [
       "<__main__.Car at 0x1f8f8db9420>"
      ]
     },
     "execution_count": 2,
     "metadata": {},
     "output_type": "execute_result"
    }
   ],
   "source": [
    "my_first_object = Car()\n",
    "my_first_object"
   ]
  },
  {
   "cell_type": "code",
   "execution_count": 145,
   "id": "1fbe36aa",
   "metadata": {},
   "outputs": [],
   "source": [
    "class Dog():\n",
    "    \n",
    "    animal_kind = 'Canine'\n",
    "    \n",
    "    #dog_name is parameter\n",
    "    def __init__(self,dog_name='Shakti',breed='Berger de Beauce'):\n",
    "        # name is Attributes which will be valid for this obj\n",
    "        #self belongs to that object \n",
    "        self.name = dog_name\n",
    "        self.b_n = breed"
   ]
  },
  {
   "cell_type": "code",
   "execution_count": 146,
   "id": "47ad0904",
   "metadata": {},
   "outputs": [],
   "source": [
    "my_dog = Dog(\"Kenji\",\"Shiba Inu\")\n",
    "my_dog2 = Dog()\n"
   ]
  },
  {
   "cell_type": "code",
   "execution_count": 147,
   "id": "1718f098",
   "metadata": {},
   "outputs": [],
   "source": [
    "my_dog.name\n",
    "my_dog.b_n\n",
    "\n",
    "my_dog2 = Dog()"
   ]
  },
  {
   "cell_type": "markdown",
   "id": "abe57f4d",
   "metadata": {},
   "source": [
    "# Methods\n",
    "\n",
    "Methods are functions that are part of an object"
   ]
  },
  {
   "cell_type": "code",
   "execution_count": 148,
   "id": "bda6b046",
   "metadata": {},
   "outputs": [],
   "source": [
    "class Dog():\n",
    "    \n",
    "    animal_kind = 'Canine'\n",
    "    \n",
    "    #dog_name is parameter\n",
    "    def __init__(self,dog_name='Shakti',breed='Berger de Beauce'):\n",
    "        # name is Attributes which will be valid for this obj\n",
    "        #self belongs to that object \n",
    "        self.name = dog_name\n",
    "        self.b_n = breed\n",
    "    def bark(self,age):\n",
    "        \"\"\"\n",
    "        This is a method that makes the dog bark\n",
    "        \"\"\"\n",
    "        print('Woof and my name is {} and my age is {}'.format(self.name,age))\n",
    "        "
   ]
  },
  {
   "cell_type": "code",
   "execution_count": 149,
   "id": "5ada823d",
   "metadata": {},
   "outputs": [],
   "source": [
    "my_dog3 = Dog(\"Kenji\",\"Shiba Inu\")"
   ]
  },
  {
   "cell_type": "code",
   "execution_count": 150,
   "id": "57de9e82",
   "metadata": {},
   "outputs": [
    {
     "name": "stdout",
     "output_type": "stream",
     "text": [
      "Woof and my name is Kenji and my age is 2\n"
     ]
    }
   ],
   "source": [
    "my_dog3.bark(2)"
   ]
  },
  {
   "cell_type": "code",
   "execution_count": 141,
   "id": "4ed4541b",
   "metadata": {},
   "outputs": [],
   "source": [
    "#write a class called circle\n",
    "#pi\n",
    "#radius\n",
    "#2 methods calculate_area, calculate_circumference\n",
    "\n",
    "class Circle():\n",
    "    pi = 3.14\n",
    "    def __init__(self,radius):\n",
    "        self.r = radius\n",
    "    def calculate_area(self):\n",
    "        print(self.pi*(self.r**2))\n",
    "    def calculate_circumference(self):\n",
    "        print(2*Circle.pi*self.r)\n",
    "            "
   ]
  },
  {
   "cell_type": "code",
   "execution_count": 142,
   "id": "7e76ef97",
   "metadata": {},
   "outputs": [],
   "source": [
    "circle_area = Circle(14)\n",
    "circle_circu = Circle(20)"
   ]
  },
  {
   "cell_type": "code",
   "execution_count": 143,
   "id": "8e2ea877",
   "metadata": {},
   "outputs": [
    {
     "name": "stdout",
     "output_type": "stream",
     "text": [
      "615.44\n"
     ]
    }
   ],
   "source": [
    "circle_area.calculate_area()"
   ]
  },
  {
   "cell_type": "code",
   "execution_count": 144,
   "id": "cf93f587",
   "metadata": {},
   "outputs": [
    {
     "name": "stdout",
     "output_type": "stream",
     "text": [
      "125.60000000000001\n"
     ]
    }
   ],
   "source": [
    "circle_circu.calculate_circumference()"
   ]
  },
  {
   "cell_type": "markdown",
   "id": "1c254308",
   "metadata": {},
   "source": [
    "# Inheritance and Ploymorphism"
   ]
  },
  {
   "cell_type": "code",
   "execution_count": 95,
   "id": "f680e2f8",
   "metadata": {},
   "outputs": [],
   "source": [
    "class Animal():\n",
    "    def __init__(self):\n",
    "        print('Hi everyone, Animal created!!')\n",
    "    def who_am_i(self):\n",
    "        print('I am an animal')"
   ]
  },
  {
   "cell_type": "code",
   "execution_count": 99,
   "id": "4ec20c01",
   "metadata": {},
   "outputs": [],
   "source": [
    "class Dog(Animal):\n",
    "    def who_am_i(self):\n",
    "        print('I am a dog')\n",
    "    pass"
   ]
  },
  {
   "cell_type": "code",
   "execution_count": 100,
   "id": "0f65807d",
   "metadata": {},
   "outputs": [
    {
     "name": "stdout",
     "output_type": "stream",
     "text": [
      "Hi everyone, Animal created!!\n"
     ]
    }
   ],
   "source": [
    "my_dog = Dog()"
   ]
  },
  {
   "cell_type": "code",
   "execution_count": 101,
   "id": "49296745",
   "metadata": {},
   "outputs": [
    {
     "name": "stdout",
     "output_type": "stream",
     "text": [
      "I am a dog\n"
     ]
    }
   ],
   "source": [
    "my_dog.who_am_i()"
   ]
  },
  {
   "cell_type": "code",
   "execution_count": 111,
   "id": "a32ff8a4",
   "metadata": {},
   "outputs": [],
   "source": [
    "class Person:\n",
    "    \n",
    "    def __init__(self, fname, lname):\n",
    "        self.firstname = fname\n",
    "        self.lastname = lname\n",
    "        \n",
    "    def printname(self):\n",
    "        print(self.firstname, self.lastname)\n",
    "        \n",
    "class Student(Person):\n",
    "      pass\n",
    "x = Student(fname='Akanksha',lname='Goje')\n"
   ]
  },
  {
   "cell_type": "code",
   "execution_count": 112,
   "id": "38daf675",
   "metadata": {},
   "outputs": [
    {
     "name": "stdout",
     "output_type": "stream",
     "text": [
      "Akanksha Goje\n"
     ]
    }
   ],
   "source": [
    "x.printname()"
   ]
  },
  {
   "cell_type": "code",
   "execution_count": 116,
   "id": "70cac9ee",
   "metadata": {},
   "outputs": [],
   "source": [
    "class Dog():\n",
    "    def __init__(self,name):\n",
    "        self.name = name\n",
    "        \n",
    "    def speak(self):\n",
    "        return self.name + \" says woof!\""
   ]
  },
  {
   "cell_type": "code",
   "execution_count": 117,
   "id": "9ee6ea34",
   "metadata": {},
   "outputs": [],
   "source": [
    "class Cat():\n",
    "    def __init__(self,name):\n",
    "        self.name = name\n",
    "        \n",
    "    def speak(self):\n",
    "        return self.name + \" says Meow!\""
   ]
  },
  {
   "cell_type": "code",
   "execution_count": 118,
   "id": "71b9848b",
   "metadata": {},
   "outputs": [],
   "source": [
    "fluffy = Dog('Fluffy')\n",
    "sushi = Cat('Sushi')"
   ]
  },
  {
   "cell_type": "code",
   "execution_count": 119,
   "id": "1291cddf",
   "metadata": {},
   "outputs": [
    {
     "data": {
      "text/plain": [
       "'Fluffy says woof!'"
      ]
     },
     "execution_count": 119,
     "metadata": {},
     "output_type": "execute_result"
    }
   ],
   "source": [
    "fluffy.speak()"
   ]
  },
  {
   "cell_type": "code",
   "execution_count": 120,
   "id": "4bd7830d",
   "metadata": {},
   "outputs": [
    {
     "data": {
      "text/plain": [
       "'Sushi says Meow!'"
      ]
     },
     "execution_count": 120,
     "metadata": {},
     "output_type": "execute_result"
    }
   ],
   "source": [
    "sushi.speak()"
   ]
  },
  {
   "cell_type": "code",
   "execution_count": 121,
   "id": "3b0ce35f",
   "metadata": {},
   "outputs": [],
   "source": [
    "def pet_speak(pet):\n",
    "    print(pet.speak())"
   ]
  },
  {
   "cell_type": "code",
   "execution_count": 123,
   "id": "0c725f58",
   "metadata": {},
   "outputs": [
    {
     "name": "stdout",
     "output_type": "stream",
     "text": [
      "Fluffy says woof!\n",
      "Sushi says Meow!\n"
     ]
    }
   ],
   "source": [
    "for pet in [fluffy,sushi]:\n",
    "    pet_speak(pet)"
   ]
  },
  {
   "cell_type": "code",
   "execution_count": null,
   "id": "cea6bd64",
   "metadata": {},
   "outputs": [],
   "source": []
  }
 ],
 "metadata": {
  "kernelspec": {
   "display_name": "Python 3 (ipykernel)",
   "language": "python",
   "name": "python3"
  },
  "language_info": {
   "codemirror_mode": {
    "name": "ipython",
    "version": 3
   },
   "file_extension": ".py",
   "mimetype": "text/x-python",
   "name": "python",
   "nbconvert_exporter": "python",
   "pygments_lexer": "ipython3",
   "version": "3.10.9"
  }
 },
 "nbformat": 4,
 "nbformat_minor": 5
}
